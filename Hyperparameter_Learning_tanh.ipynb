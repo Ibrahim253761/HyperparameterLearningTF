{
 "cells": [
  {
   "cell_type": "code",
   "execution_count": 73,
   "metadata": {
    "collapsed": true
   },
   "outputs": [],
   "source": [
    "import pandas as pd\n",
    "import numpy as np\n",
    "rand_st = 101\n",
    "tst_sz=0.4"
   ]
  },
  {
   "cell_type": "markdown",
   "metadata": {},
   "source": [
    "## Using a linear model (Logistic Regressor)"
   ]
  },
  {
   "cell_type": "code",
   "execution_count": 74,
   "metadata": {
    "scrolled": true
   },
   "outputs": [
    {
     "data": {
      "text/html": [
       "<div>\n",
       "<style>\n",
       "    .dataframe thead tr:only-child th {\n",
       "        text-align: right;\n",
       "    }\n",
       "\n",
       "    .dataframe thead th {\n",
       "        text-align: left;\n",
       "    }\n",
       "\n",
       "    .dataframe tbody tr th {\n",
       "        vertical-align: top;\n",
       "    }\n",
       "</style>\n",
       "<table border=\"1\" class=\"dataframe\">\n",
       "  <thead>\n",
       "    <tr style=\"text-align: right;\">\n",
       "      <th></th>\n",
       "      <th>dropout</th>\n",
       "      <th>learning.rate</th>\n",
       "      <th>L1.regularization</th>\n",
       "      <th>training.steps</th>\n",
       "      <th>accuracy</th>\n",
       "      <th>execution.time</th>\n",
       "    </tr>\n",
       "  </thead>\n",
       "  <tbody>\n",
       "    <tr>\n",
       "      <th>0</th>\n",
       "      <td>0.01</td>\n",
       "      <td>0.0002</td>\n",
       "      <td>0.01</td>\n",
       "      <td>100</td>\n",
       "      <td>0.466667</td>\n",
       "      <td>6.709321</td>\n",
       "    </tr>\n",
       "    <tr>\n",
       "      <th>1</th>\n",
       "      <td>0.01</td>\n",
       "      <td>0.0002</td>\n",
       "      <td>0.01</td>\n",
       "      <td>500</td>\n",
       "      <td>0.566667</td>\n",
       "      <td>10.116145</td>\n",
       "    </tr>\n",
       "    <tr>\n",
       "      <th>2</th>\n",
       "      <td>0.01</td>\n",
       "      <td>0.0002</td>\n",
       "      <td>0.01</td>\n",
       "      <td>2500</td>\n",
       "      <td>0.466667</td>\n",
       "      <td>20.873255</td>\n",
       "    </tr>\n",
       "    <tr>\n",
       "      <th>3</th>\n",
       "      <td>0.01</td>\n",
       "      <td>0.0002</td>\n",
       "      <td>0.10</td>\n",
       "      <td>100</td>\n",
       "      <td>0.733333</td>\n",
       "      <td>8.113106</td>\n",
       "    </tr>\n",
       "    <tr>\n",
       "      <th>4</th>\n",
       "      <td>0.01</td>\n",
       "      <td>0.0002</td>\n",
       "      <td>0.10</td>\n",
       "      <td>500</td>\n",
       "      <td>0.000000</td>\n",
       "      <td>10.007829</td>\n",
       "    </tr>\n",
       "  </tbody>\n",
       "</table>\n",
       "</div>"
      ],
      "text/plain": [
       "   dropout  learning.rate  L1.regularization  training.steps  accuracy  \\\n",
       "0     0.01         0.0002               0.01             100  0.466667   \n",
       "1     0.01         0.0002               0.01             500  0.566667   \n",
       "2     0.01         0.0002               0.01            2500  0.466667   \n",
       "3     0.01         0.0002               0.10             100  0.733333   \n",
       "4     0.01         0.0002               0.10             500  0.000000   \n",
       "\n",
       "   execution.time  \n",
       "0        6.709321  \n",
       "1       10.116145  \n",
       "2       20.873255  \n",
       "3        8.113106  \n",
       "4       10.007829  "
      ]
     },
     "execution_count": 74,
     "metadata": {},
     "output_type": "execute_result"
    }
   ],
   "source": [
    "df_tanh=pd.read_csv('tanh_data.csv',usecols=['dropout', 'learning.rate', 'L1.regularization', 'training.steps',\n",
    "       'accuracy', 'execution.time'])\n",
    "df_tanh.head()"
   ]
  },
  {
   "cell_type": "code",
   "execution_count": 75,
   "metadata": {
    "collapsed": true
   },
   "outputs": [],
   "source": [
    "def pred_quality(x):\n",
    "    if x<0.5:\n",
    "        return 0\n",
    "    elif (x>=0.5 and x<0.8):\n",
    "        return 1\n",
    "    else:\n",
    "        return 2\n",
    "\n",
    "df_tanh['Pred.Quality']=df_tanh['accuracy'].apply(pred_quality)\n",
    "df_tanh.to_csv(\"tanh_data_Quality.csv\")"
   ]
  },
  {
   "cell_type": "code",
   "execution_count": 76,
   "metadata": {},
   "outputs": [
    {
     "data": {
      "text/html": [
       "<div>\n",
       "<style>\n",
       "    .dataframe thead tr:only-child th {\n",
       "        text-align: right;\n",
       "    }\n",
       "\n",
       "    .dataframe thead th {\n",
       "        text-align: left;\n",
       "    }\n",
       "\n",
       "    .dataframe tbody tr th {\n",
       "        vertical-align: top;\n",
       "    }\n",
       "</style>\n",
       "<table border=\"1\" class=\"dataframe\">\n",
       "  <thead>\n",
       "    <tr style=\"text-align: right;\">\n",
       "      <th></th>\n",
       "      <th>dropout</th>\n",
       "      <th>learning.rate</th>\n",
       "      <th>L1.regularization</th>\n",
       "      <th>training.steps</th>\n",
       "      <th>accuracy</th>\n",
       "      <th>execution.time</th>\n",
       "      <th>Pred.Quality</th>\n",
       "    </tr>\n",
       "  </thead>\n",
       "  <tbody>\n",
       "    <tr>\n",
       "      <th>0</th>\n",
       "      <td>0.01</td>\n",
       "      <td>0.0002</td>\n",
       "      <td>0.01</td>\n",
       "      <td>100</td>\n",
       "      <td>0.466667</td>\n",
       "      <td>6.709321</td>\n",
       "      <td>0</td>\n",
       "    </tr>\n",
       "    <tr>\n",
       "      <th>1</th>\n",
       "      <td>0.01</td>\n",
       "      <td>0.0002</td>\n",
       "      <td>0.01</td>\n",
       "      <td>500</td>\n",
       "      <td>0.566667</td>\n",
       "      <td>10.116145</td>\n",
       "      <td>1</td>\n",
       "    </tr>\n",
       "    <tr>\n",
       "      <th>2</th>\n",
       "      <td>0.01</td>\n",
       "      <td>0.0002</td>\n",
       "      <td>0.01</td>\n",
       "      <td>2500</td>\n",
       "      <td>0.466667</td>\n",
       "      <td>20.873255</td>\n",
       "      <td>0</td>\n",
       "    </tr>\n",
       "    <tr>\n",
       "      <th>3</th>\n",
       "      <td>0.01</td>\n",
       "      <td>0.0002</td>\n",
       "      <td>0.10</td>\n",
       "      <td>100</td>\n",
       "      <td>0.733333</td>\n",
       "      <td>8.113106</td>\n",
       "      <td>1</td>\n",
       "    </tr>\n",
       "    <tr>\n",
       "      <th>4</th>\n",
       "      <td>0.01</td>\n",
       "      <td>0.0002</td>\n",
       "      <td>0.10</td>\n",
       "      <td>500</td>\n",
       "      <td>0.000000</td>\n",
       "      <td>10.007829</td>\n",
       "      <td>0</td>\n",
       "    </tr>\n",
       "  </tbody>\n",
       "</table>\n",
       "</div>"
      ],
      "text/plain": [
       "   dropout  learning.rate  L1.regularization  training.steps  accuracy  \\\n",
       "0     0.01         0.0002               0.01             100  0.466667   \n",
       "1     0.01         0.0002               0.01             500  0.566667   \n",
       "2     0.01         0.0002               0.01            2500  0.466667   \n",
       "3     0.01         0.0002               0.10             100  0.733333   \n",
       "4     0.01         0.0002               0.10             500  0.000000   \n",
       "\n",
       "   execution.time  Pred.Quality  \n",
       "0        6.709321             0  \n",
       "1       10.116145             1  \n",
       "2       20.873255             0  \n",
       "3        8.113106             1  \n",
       "4       10.007829             0  "
      ]
     },
     "execution_count": 76,
     "metadata": {},
     "output_type": "execute_result"
    }
   ],
   "source": [
    "df_tanh.head(5)"
   ]
  },
  {
   "cell_type": "code",
   "execution_count": 77,
   "metadata": {
    "collapsed": true
   },
   "outputs": [],
   "source": [
    "lst=list(df_tanh.columns)"
   ]
  },
  {
   "cell_type": "code",
   "execution_count": 78,
   "metadata": {},
   "outputs": [
    {
     "data": {
      "text/html": [
       "<div>\n",
       "<style>\n",
       "    .dataframe thead tr:only-child th {\n",
       "        text-align: right;\n",
       "    }\n",
       "\n",
       "    .dataframe thead th {\n",
       "        text-align: left;\n",
       "    }\n",
       "\n",
       "    .dataframe tbody tr th {\n",
       "        vertical-align: top;\n",
       "    }\n",
       "</style>\n",
       "<table border=\"1\" class=\"dataframe\">\n",
       "  <thead>\n",
       "    <tr style=\"text-align: right;\">\n",
       "      <th></th>\n",
       "      <th>dropout</th>\n",
       "      <th>learning.rate</th>\n",
       "      <th>L1.regularization</th>\n",
       "      <th>training.steps</th>\n",
       "    </tr>\n",
       "  </thead>\n",
       "  <tbody>\n",
       "    <tr>\n",
       "      <th>0</th>\n",
       "      <td>0.01</td>\n",
       "      <td>0.0002</td>\n",
       "      <td>0.01</td>\n",
       "      <td>100</td>\n",
       "    </tr>\n",
       "    <tr>\n",
       "      <th>1</th>\n",
       "      <td>0.01</td>\n",
       "      <td>0.0002</td>\n",
       "      <td>0.01</td>\n",
       "      <td>500</td>\n",
       "    </tr>\n",
       "    <tr>\n",
       "      <th>2</th>\n",
       "      <td>0.01</td>\n",
       "      <td>0.0002</td>\n",
       "      <td>0.01</td>\n",
       "      <td>2500</td>\n",
       "    </tr>\n",
       "    <tr>\n",
       "      <th>3</th>\n",
       "      <td>0.01</td>\n",
       "      <td>0.0002</td>\n",
       "      <td>0.10</td>\n",
       "      <td>100</td>\n",
       "    </tr>\n",
       "    <tr>\n",
       "      <th>4</th>\n",
       "      <td>0.01</td>\n",
       "      <td>0.0002</td>\n",
       "      <td>0.10</td>\n",
       "      <td>500</td>\n",
       "    </tr>\n",
       "  </tbody>\n",
       "</table>\n",
       "</div>"
      ],
      "text/plain": [
       "   dropout  learning.rate  L1.regularization  training.steps\n",
       "0     0.01         0.0002               0.01             100\n",
       "1     0.01         0.0002               0.01             500\n",
       "2     0.01         0.0002               0.01            2500\n",
       "3     0.01         0.0002               0.10             100\n",
       "4     0.01         0.0002               0.10             500"
      ]
     },
     "execution_count": 78,
     "metadata": {},
     "output_type": "execute_result"
    }
   ],
   "source": [
    "X=df_tanh[lst[0:4]]\n",
    "X.head()"
   ]
  },
  {
   "cell_type": "code",
   "execution_count": 79,
   "metadata": {
    "collapsed": true
   },
   "outputs": [],
   "source": [
    "y=df_tanh['Pred.Quality']"
   ]
  },
  {
   "cell_type": "code",
   "execution_count": 80,
   "metadata": {
    "collapsed": true
   },
   "outputs": [],
   "source": [
    "from sklearn.linear_model import LogisticRegression\n",
    "log_model=LogisticRegression(max_iter=10000,C=100,tol=0.0000001,solver='sag',multi_class='multinomial')"
   ]
  },
  {
   "cell_type": "code",
   "execution_count": 81,
   "metadata": {
    "collapsed": true
   },
   "outputs": [],
   "source": [
    "from sklearn.model_selection import train_test_split\n",
    "X_train, X_test, y_train, y_test = train_test_split(X, y, test_size=tst_sz,random_state=rand_st)"
   ]
  },
  {
   "cell_type": "code",
   "execution_count": 82,
   "metadata": {
    "collapsed": true
   },
   "outputs": [],
   "source": [
    "from sklearn import preprocessing\n",
    "min_max_scaler = preprocessing.MinMaxScaler()\n",
    "X_train_minmax = min_max_scaler.fit_transform(X_train)\n",
    "X_test_minmax = min_max_scaler.fit_transform(X_test)"
   ]
  },
  {
   "cell_type": "code",
   "execution_count": 83,
   "metadata": {},
   "outputs": [
    {
     "data": {
      "text/plain": [
       "LogisticRegression(C=100, class_weight=None, dual=False, fit_intercept=True,\n",
       "          intercept_scaling=1, max_iter=10000, multi_class='multinomial',\n",
       "          n_jobs=1, penalty='l2', random_state=None, solver='sag',\n",
       "          tol=1e-07, verbose=0, warm_start=False)"
      ]
     },
     "execution_count": 83,
     "metadata": {},
     "output_type": "execute_result"
    }
   ],
   "source": [
    "log_model.fit(X_train_minmax,y_train)"
   ]
  },
  {
   "cell_type": "code",
   "execution_count": 84,
   "metadata": {
    "collapsed": true
   },
   "outputs": [],
   "source": [
    "y_pred=log_model.predict(X_test_minmax)"
   ]
  },
  {
   "cell_type": "code",
   "execution_count": 85,
   "metadata": {},
   "outputs": [
    {
     "data": {
      "text/plain": [
       "array([1, 0, 2, 1, 1, 2, 0, 1, 1, 2, 2, 1, 1, 2, 1, 2, 1, 0, 1, 0, 1, 2, 2,\n",
       "       0, 0, 1, 2, 2, 2, 2, 1, 1, 2, 1, 0, 0, 0, 1, 2, 2, 1, 2, 1, 2, 0, 1,\n",
       "       1, 0, 0, 2, 1, 0, 0, 2, 2, 2, 0, 2, 2, 2, 1, 0, 2, 1, 2, 2, 1, 1, 1,\n",
       "       1, 1, 2, 1, 2, 0, 1, 1, 2, 2, 1, 1, 1, 0, 0, 0, 2, 0, 2, 1, 1, 0, 1,\n",
       "       2, 2, 0, 1, 2, 0, 0, 0, 1, 2, 1, 1, 2, 2, 2, 2, 1, 1, 1, 1, 0, 2, 1,\n",
       "       2], dtype=int64)"
      ]
     },
     "execution_count": 85,
     "metadata": {},
     "output_type": "execute_result"
    }
   ],
   "source": [
    "y_pred"
   ]
  },
  {
   "cell_type": "code",
   "execution_count": 86,
   "metadata": {},
   "outputs": [
    {
     "data": {
      "text/html": [
       "<div>\n",
       "<style>\n",
       "    .dataframe thead tr:only-child th {\n",
       "        text-align: right;\n",
       "    }\n",
       "\n",
       "    .dataframe thead th {\n",
       "        text-align: left;\n",
       "    }\n",
       "\n",
       "    .dataframe tbody tr th {\n",
       "        vertical-align: top;\n",
       "    }\n",
       "</style>\n",
       "<table border=\"1\" class=\"dataframe\">\n",
       "  <thead>\n",
       "    <tr style=\"text-align: right;\">\n",
       "      <th></th>\n",
       "      <th>Predicted Low</th>\n",
       "      <th>Predicted Medium</th>\n",
       "      <th>Predicted High</th>\n",
       "    </tr>\n",
       "  </thead>\n",
       "  <tbody>\n",
       "    <tr>\n",
       "      <th>True Low</th>\n",
       "      <td>19</td>\n",
       "      <td>20</td>\n",
       "      <td>4</td>\n",
       "    </tr>\n",
       "    <tr>\n",
       "      <th>True Medium</th>\n",
       "      <td>6</td>\n",
       "      <td>12</td>\n",
       "      <td>9</td>\n",
       "    </tr>\n",
       "    <tr>\n",
       "      <th>True High</th>\n",
       "      <td>2</td>\n",
       "      <td>14</td>\n",
       "      <td>30</td>\n",
       "    </tr>\n",
       "  </tbody>\n",
       "</table>\n",
       "</div>"
      ],
      "text/plain": [
       "             Predicted Low  Predicted Medium  Predicted High\n",
       "True Low                19                20               4\n",
       "True Medium              6                12               9\n",
       "True High                2                14              30"
      ]
     },
     "execution_count": 86,
     "metadata": {},
     "output_type": "execute_result"
    }
   ],
   "source": [
    "from sklearn.metrics import confusion_matrix\n",
    "conf_mat = pd.DataFrame(confusion_matrix(y_test, y_pred),\n",
    "                        columns=['Predicted Low','Predicted Medium','Predicted High'], \n",
    "                        index=['True Low','True Medium','True High'])\n",
    "conf_mat"
   ]
  },
  {
   "cell_type": "code",
   "execution_count": 87,
   "metadata": {},
   "outputs": [
    {
     "name": "stdout",
     "output_type": "stream",
     "text": [
      "             precision    recall  f1-score   support\n",
      "\n",
      "        Low       0.70      0.44      0.54        43\n",
      "     Medium       0.26      0.44      0.33        27\n",
      "       High       0.70      0.65      0.67        46\n",
      "\n",
      "avg / total       0.60      0.53      0.55       116\n",
      "\n"
     ]
    }
   ],
   "source": [
    "from sklearn.metrics import classification_report\n",
    "target_names = ['Low','Medium','High']\n",
    "print(classification_report(y_test, y_pred, target_names=target_names))"
   ]
  },
  {
   "cell_type": "markdown",
   "metadata": {},
   "source": [
    "## Using a DNN Classifier!"
   ]
  },
  {
   "cell_type": "code",
   "execution_count": 88,
   "metadata": {
    "collapsed": true
   },
   "outputs": [],
   "source": [
    "import tensorflow as tf\n",
    "import os\n",
    "os.environ['TF_CPP_MIN_VLOG_LEVEL'] = '2'\n",
    "os.environ['TF_CPP_MIN_LOG_LEVEL'] = '2'\n",
    "from tensorflow import logging\n",
    "logging.set_verbosity(logging.ERROR)"
   ]
  },
  {
   "cell_type": "code",
   "execution_count": 89,
   "metadata": {
    "collapsed": true
   },
   "outputs": [],
   "source": [
    "def split_dataset(data,test_size):\n",
    "    data_file = data\n",
    "    data = pd.read_csv(data,usecols=['dropout', 'learning.rate', 'L1.regularization', 'training.steps','Pred.Quality'])\n",
    "    from sklearn.model_selection import train_test_split\n",
    "    data_train, data_test = train_test_split(data,test_size=test_size,random_state=rand_st)\n",
    "    #data_train=pd.DataFrame(data_train)\n",
    "    #data_test=pd.DataFrame(data_test)\n",
    "    name = str(data_file).split('.')[0]\n",
    "    name_train=name+'_train.csv'\n",
    "    name_test=name+'_test.csv'\n",
    "    data_train.to_csv(name_train,index=False,header=False)\n",
    "    data_test.to_csv(name_test,index=False,header=False)\n",
    "    return (data_train,data_test)"
   ]
  },
  {
   "cell_type": "code",
   "execution_count": 90,
   "metadata": {
    "collapsed": true
   },
   "outputs": [],
   "source": [
    "tanh_train,tanh_test=split_dataset('tanh_data_Quality.csv',tst_sz)"
   ]
  },
  {
   "cell_type": "code",
   "execution_count": 91,
   "metadata": {
    "collapsed": true
   },
   "outputs": [],
   "source": [
    "training_set = tf.contrib.learn.datasets.base.load_csv_without_header(\n",
    "    filename=\"tanh_data_Quality_train.csv\",\n",
    "    target_dtype=np.int,\n",
    "    features_dtype=np.float64,\n",
    "    target_column=-1)\n",
    "\n",
    "test_set = tf.contrib.learn.datasets.base.load_csv_without_header(\n",
    "    filename='tanh_data_Quality_test.csv',\n",
    "    target_dtype=np.int,\n",
    "    features_dtype=np.float64,\n",
    "    target_column=-1)"
   ]
  },
  {
   "cell_type": "code",
   "execution_count": 92,
   "metadata": {
    "collapsed": true
   },
   "outputs": [],
   "source": [
    "# Specify that all features have real-value data\n",
    "feature_columns = [tf.feature_column.numeric_column(\"x\", shape=[4])]"
   ]
  },
  {
   "cell_type": "code",
   "execution_count": 93,
   "metadata": {
    "collapsed": true
   },
   "outputs": [],
   "source": [
    "# Define the training inputs\n",
    "train_input_fn = tf.estimator.inputs.numpy_input_fn(\n",
    "      x={\"x\": np.array(training_set.data)},\n",
    "      y=np.array(training_set.target),\n",
    "      num_epochs=None,\n",
    "      shuffle=True)"
   ]
  },
  {
   "cell_type": "code",
   "execution_count": 94,
   "metadata": {
    "collapsed": true
   },
   "outputs": [],
   "source": [
    "# Define the test inputs\n",
    "test_input_fn = tf.estimator.inputs.numpy_input_fn(\n",
    "      x={\"x\": np.array(test_set.data)},\n",
    "      y=np.array(test_set.target),\n",
    "      num_epochs=1,\n",
    "      shuffle=False)"
   ]
  },
  {
   "cell_type": "markdown",
   "metadata": {},
   "source": [
    "### Training and classification"
   ]
  },
  {
   "cell_type": "code",
   "execution_count": 102,
   "metadata": {
    "collapsed": true
   },
   "outputs": [],
   "source": [
    "classifier = tf.estimator.DNNClassifier(feature_columns=feature_columns,hidden_units=[10,20,20], dropout=0.01,\n",
    "                                                      n_classes=3,\n",
    "                                                    optimizer=tf.train.ProximalAdagradOptimizer(learning_rate=0.0001,\n",
    "                                                    l1_regularization_strength=1.0),\n",
    "                                                   activation_fn=tf.nn.tanh)"
   ]
  },
  {
   "cell_type": "code",
   "execution_count": 103,
   "metadata": {},
   "outputs": [
    {
     "data": {
      "text/plain": [
       "0.3275862"
      ]
     },
     "execution_count": 103,
     "metadata": {},
     "output_type": "execute_result"
    }
   ],
   "source": [
    "classifier.train(input_fn=train_input_fn, steps=5000)\n",
    "classifier.evaluate(input_fn=test_input_fn)[\"accuracy\"]"
   ]
  },
  {
   "cell_type": "code",
   "execution_count": null,
   "metadata": {
    "collapsed": true
   },
   "outputs": [],
   "source": []
  }
 ],
 "metadata": {
  "kernelspec": {
   "display_name": "Python 3",
   "language": "python",
   "name": "python3"
  },
  "language_info": {
   "codemirror_mode": {
    "name": "ipython",
    "version": 3
   },
   "file_extension": ".py",
   "mimetype": "text/x-python",
   "name": "python",
   "nbconvert_exporter": "python",
   "pygments_lexer": "ipython3",
   "version": "3.6.1"
  }
 },
 "nbformat": 4,
 "nbformat_minor": 2
}
